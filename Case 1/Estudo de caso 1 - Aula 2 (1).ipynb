{
  "nbformat": 4,
  "nbformat_minor": 0,
  "metadata": {
    "colab": {
      "provenance": []
    },
    "kernelspec": {
      "name": "python3",
      "display_name": "Python 3"
    },
    "language_info": {
      "name": "python"
    }
  },
  "cells": [
    {
      "cell_type": "code",
      "source": [
        "class Fracao:\n",
        "  def __init__(self, numerador, denominador):\n",
        "    self.numerador = numerador\n",
        "    self.denominador = denominador\n",
        "\n",
        "  def __add__(self, other):\n",
        "    num = self.numerador * other.denominador + other.numerador * self.denominador\n",
        "    den = self.denominador * other.denominador\n",
        "    return Fracao(num, den)\n",
        "\n",
        "  def __sub__(self, other):\n",
        "    num = self.numerador * other.denominador - other.numerador * self.denominador\n",
        "    den = self.denominador * other.denominador\n",
        "    return Fracao(num, den)\n",
        "\n",
        "  def __mul__(self, other):\n",
        "    num = self.numerador * other.numerador\n",
        "    den = self.denominador * other.denominador\n",
        "    return Fracao(num, den)\n",
        "\n",
        "  def __truediv__(self, other):\n",
        "    num = self.denominador * other.denominador\n",
        "    den = self.numerador * other.numerador\n",
        "    return Fracao(num, den)\n",
        "\n",
        "  def __str__(self):\n",
        "    return f\"{self.numerador}/{self.denominador}\"\n",
        "\n",
        "  def __repr__(self):\n",
        "    return f\"Fracao({self.numerador}, {self.denominador})\"\n",
        "\n",
        "a = Fracao(1, 2)\n",
        "b = Fracao(3, 4)\n",
        "\n",
        "print(str(a + b))\n",
        "print(str(a - b))\n",
        "print(str(a * b))\n",
        "print(str(a / b))\n",
        "\n"
      ],
      "metadata": {
        "id": "sYjyf4-BHAwb",
        "colab": {
          "base_uri": "https://localhost:8080/"
        },
        "outputId": "8814f3bd-b21c-4e3a-9bdf-1bc119ba167e"
      },
      "execution_count": null,
      "outputs": [
        {
          "output_type": "stream",
          "name": "stdout",
          "text": [
            "10/8\n",
            "-2/8\n",
            "3/8\n",
            "8/3\n"
          ]
        }
      ]
    },
    {
      "cell_type": "code",
      "source": [
        "class Fracao:\n",
        "    def __init__(self, numerador, denominador):\n",
        "        self.numerador = numerador\n",
        "        self.denominador = denominador\n",
        "\n",
        "    def soma(self, other):\n",
        "        num = self.numerador * other.denominador + other.numerador * self.denominador\n",
        "        den = self.denominador * other.denominador\n",
        "        return Fracao(num, den)\n",
        "\n",
        "    def subtracao(self, other):\n",
        "        num = self.numerador * other.denominador - other.numerador * self.denominador\n",
        "        den = self.denominador * other.denominador\n",
        "        return Fracao(num, den)\n",
        "\n",
        "    def multiplicacao(self, other):\n",
        "        num = self.numerador * other.numerador\n",
        "        den = self.denominador * other.denominador\n",
        "        return Fracao(num, den)\n",
        "\n",
        "    def divisao(self, other):\n",
        "        num = self.denominador * other.denominador\n",
        "        den = self.numerador * other.numerador\n",
        "        return Fracao(num, den)\n",
        "\n",
        "    def __str__(self):\n",
        "        return f\"{self.numerador}/{self.denominador}\"\n",
        "\n",
        "a = Fracao(1, 2)\n",
        "b = Fracao(3, 4)\n",
        "\n",
        "# Soma\n",
        "resultado_soma = a.soma(b)\n",
        "print(f\"Soma: {resultado_soma}\")\n",
        "\n",
        "# Subtração\n",
        "resultado_subtracao = a.subtracao(b)\n",
        "print(f\"Subtração: {resultado_subtracao}\")\n",
        "\n",
        "# Multiplicação\n",
        "resultado_multiplicacao = a.multiplicacao(b)\n",
        "print(f\"Multiplicação: {resultado_multiplicacao}\")\n",
        "\n",
        "# Divisão\n",
        "resultado_divisao = a.divisao(b)\n",
        "print(f\"Divisão: {resultado_divisao}\")\n"
      ],
      "metadata": {
        "id": "RWfnVeXGK03v",
        "colab": {
          "base_uri": "https://localhost:8080/"
        },
        "outputId": "0c3339f4-3d0a-41f5-9262-8c93a20e1821"
      },
      "execution_count": 11,
      "outputs": [
        {
          "output_type": "stream",
          "name": "stdout",
          "text": [
            "Soma: 10/8\n",
            "Subtração: -2/8\n",
            "Multiplicação: 3/8\n",
            "Divisão: 8/3\n"
          ]
        }
      ]
    }
  ]
}